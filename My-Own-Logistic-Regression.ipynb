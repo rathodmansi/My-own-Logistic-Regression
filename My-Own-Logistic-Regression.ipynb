{
 "cells": [
  {
   "cell_type": "markdown",
   "metadata": {},
   "source": [
    "#### Objective Function\n",
    "F(β)=log(1+exp(−yxβ) +λβ . \n",
    "\n",
    "#### Gradient Function\n",
    "∇F(β) = (exp(yxbeta)/(1+exp(yxbeta)) * (yx) + 2*lambda*beta"
   ]
  },
  {
   "cell_type": "markdown",
   "metadata": {},
   "source": [
    "#### Using the Spam dataset for building the L2-regularised Logistic Regression model"
   ]
  },
  {
   "cell_type": "code",
   "execution_count": 2,
   "metadata": {},
   "outputs": [],
   "source": [
    "from IPython.core.interactiveshell import InteractiveShell\n",
    "InteractiveShell.ast_node_interactivity = \"all\"\n",
    "import pandas as pd\n",
    "import numpy as np\n",
    "from sklearn.model_selection import train_test_split\n",
    "from sklearn import preprocessing\n",
    "from numpy import multiply\n",
    "import matplotlib.pyplot as plt\n",
    "from sklearn.metrics import accuracy_score"
   ]
  },
  {
   "cell_type": "code",
   "execution_count": 3,
   "metadata": {},
   "outputs": [
    {
     "data": {
      "text/html": [
       "<div>\n",
       "<style scoped>\n",
       "    .dataframe tbody tr th:only-of-type {\n",
       "        vertical-align: middle;\n",
       "    }\n",
       "\n",
       "    .dataframe tbody tr th {\n",
       "        vertical-align: top;\n",
       "    }\n",
       "\n",
       "    .dataframe thead th {\n",
       "        text-align: right;\n",
       "    }\n",
       "</style>\n",
       "<table border=\"1\" class=\"dataframe\">\n",
       "  <thead>\n",
       "    <tr style=\"text-align: right;\">\n",
       "      <th></th>\n",
       "      <th>0</th>\n",
       "      <th>1</th>\n",
       "      <th>2</th>\n",
       "      <th>3</th>\n",
       "      <th>4</th>\n",
       "      <th>5</th>\n",
       "      <th>6</th>\n",
       "      <th>7</th>\n",
       "      <th>8</th>\n",
       "      <th>9</th>\n",
       "      <th>...</th>\n",
       "      <th>47</th>\n",
       "      <th>48</th>\n",
       "      <th>49</th>\n",
       "      <th>50</th>\n",
       "      <th>51</th>\n",
       "      <th>52</th>\n",
       "      <th>53</th>\n",
       "      <th>54</th>\n",
       "      <th>55</th>\n",
       "      <th>56</th>\n",
       "    </tr>\n",
       "  </thead>\n",
       "  <tbody>\n",
       "    <tr>\n",
       "      <th>0</th>\n",
       "      <td>0.00</td>\n",
       "      <td>0.64</td>\n",
       "      <td>0.64</td>\n",
       "      <td>0.0</td>\n",
       "      <td>0.32</td>\n",
       "      <td>0.00</td>\n",
       "      <td>0.00</td>\n",
       "      <td>0.00</td>\n",
       "      <td>0.00</td>\n",
       "      <td>0.00</td>\n",
       "      <td>...</td>\n",
       "      <td>0.0</td>\n",
       "      <td>0.00</td>\n",
       "      <td>0.000</td>\n",
       "      <td>0.0</td>\n",
       "      <td>0.778</td>\n",
       "      <td>0.000</td>\n",
       "      <td>0.000</td>\n",
       "      <td>3.756</td>\n",
       "      <td>61</td>\n",
       "      <td>278</td>\n",
       "    </tr>\n",
       "    <tr>\n",
       "      <th>1</th>\n",
       "      <td>0.21</td>\n",
       "      <td>0.28</td>\n",
       "      <td>0.50</td>\n",
       "      <td>0.0</td>\n",
       "      <td>0.14</td>\n",
       "      <td>0.28</td>\n",
       "      <td>0.21</td>\n",
       "      <td>0.07</td>\n",
       "      <td>0.00</td>\n",
       "      <td>0.94</td>\n",
       "      <td>...</td>\n",
       "      <td>0.0</td>\n",
       "      <td>0.00</td>\n",
       "      <td>0.132</td>\n",
       "      <td>0.0</td>\n",
       "      <td>0.372</td>\n",
       "      <td>0.180</td>\n",
       "      <td>0.048</td>\n",
       "      <td>5.114</td>\n",
       "      <td>101</td>\n",
       "      <td>1028</td>\n",
       "    </tr>\n",
       "    <tr>\n",
       "      <th>2</th>\n",
       "      <td>0.06</td>\n",
       "      <td>0.00</td>\n",
       "      <td>0.71</td>\n",
       "      <td>0.0</td>\n",
       "      <td>1.23</td>\n",
       "      <td>0.19</td>\n",
       "      <td>0.19</td>\n",
       "      <td>0.12</td>\n",
       "      <td>0.64</td>\n",
       "      <td>0.25</td>\n",
       "      <td>...</td>\n",
       "      <td>0.0</td>\n",
       "      <td>0.01</td>\n",
       "      <td>0.143</td>\n",
       "      <td>0.0</td>\n",
       "      <td>0.276</td>\n",
       "      <td>0.184</td>\n",
       "      <td>0.010</td>\n",
       "      <td>9.821</td>\n",
       "      <td>485</td>\n",
       "      <td>2259</td>\n",
       "    </tr>\n",
       "    <tr>\n",
       "      <th>3</th>\n",
       "      <td>0.00</td>\n",
       "      <td>0.00</td>\n",
       "      <td>0.00</td>\n",
       "      <td>0.0</td>\n",
       "      <td>0.63</td>\n",
       "      <td>0.00</td>\n",
       "      <td>0.31</td>\n",
       "      <td>0.63</td>\n",
       "      <td>0.31</td>\n",
       "      <td>0.63</td>\n",
       "      <td>...</td>\n",
       "      <td>0.0</td>\n",
       "      <td>0.00</td>\n",
       "      <td>0.137</td>\n",
       "      <td>0.0</td>\n",
       "      <td>0.137</td>\n",
       "      <td>0.000</td>\n",
       "      <td>0.000</td>\n",
       "      <td>3.537</td>\n",
       "      <td>40</td>\n",
       "      <td>191</td>\n",
       "    </tr>\n",
       "    <tr>\n",
       "      <th>4</th>\n",
       "      <td>0.00</td>\n",
       "      <td>0.00</td>\n",
       "      <td>0.00</td>\n",
       "      <td>0.0</td>\n",
       "      <td>0.63</td>\n",
       "      <td>0.00</td>\n",
       "      <td>0.31</td>\n",
       "      <td>0.63</td>\n",
       "      <td>0.31</td>\n",
       "      <td>0.63</td>\n",
       "      <td>...</td>\n",
       "      <td>0.0</td>\n",
       "      <td>0.00</td>\n",
       "      <td>0.135</td>\n",
       "      <td>0.0</td>\n",
       "      <td>0.135</td>\n",
       "      <td>0.000</td>\n",
       "      <td>0.000</td>\n",
       "      <td>3.537</td>\n",
       "      <td>40</td>\n",
       "      <td>191</td>\n",
       "    </tr>\n",
       "  </tbody>\n",
       "</table>\n",
       "<p>5 rows × 57 columns</p>\n",
       "</div>"
      ],
      "text/plain": [
       "     0     1     2    3     4     5     6     7     8     9   ...   47    48  \\\n",
       "0  0.00  0.64  0.64  0.0  0.32  0.00  0.00  0.00  0.00  0.00  ...  0.0  0.00   \n",
       "1  0.21  0.28  0.50  0.0  0.14  0.28  0.21  0.07  0.00  0.94  ...  0.0  0.00   \n",
       "2  0.06  0.00  0.71  0.0  1.23  0.19  0.19  0.12  0.64  0.25  ...  0.0  0.01   \n",
       "3  0.00  0.00  0.00  0.0  0.63  0.00  0.31  0.63  0.31  0.63  ...  0.0  0.00   \n",
       "4  0.00  0.00  0.00  0.0  0.63  0.00  0.31  0.63  0.31  0.63  ...  0.0  0.00   \n",
       "\n",
       "      49   50     51     52     53     54   55    56  \n",
       "0  0.000  0.0  0.778  0.000  0.000  3.756   61   278  \n",
       "1  0.132  0.0  0.372  0.180  0.048  5.114  101  1028  \n",
       "2  0.143  0.0  0.276  0.184  0.010  9.821  485  2259  \n",
       "3  0.137  0.0  0.137  0.000  0.000  3.537   40   191  \n",
       "4  0.135  0.0  0.135  0.000  0.000  3.537   40   191  \n",
       "\n",
       "[5 rows x 57 columns]"
      ]
     },
     "execution_count": 3,
     "metadata": {},
     "output_type": "execute_result"
    }
   ],
   "source": [
    "spam = pd.read_csv('https://web.stanford.edu/~hastie/ElemStatLearn/datasets/spam.data', sep=' ', header=None)\n",
    "split = pd.read_csv(\"https://web.stanford.edu/~hastie/ElemStatLearn/datasets/spam.traintest\", sep=\" \", header=None)\n",
    "\n",
    "X = spam.drop([57], axis = 1)\n",
    "y = spam[57].copy()\n",
    "#Change output labels\n",
    "y[y==0] = -1\n",
    "X.head()\n"
   ]
  },
  {
   "cell_type": "code",
   "execution_count": 9,
   "metadata": {},
   "outputs": [
    {
     "data": {
      "text/plain": [
       "pandas.core.series.Series"
      ]
     },
     "execution_count": 9,
     "metadata": {},
     "output_type": "execute_result"
    }
   ],
   "source": [
    "#split the data\n",
    "X_train = X[split[0] == 0]\n",
    "X_test = X[split[0] == 1]\n",
    "y_train = y[split[0] == 0]\n",
    "y_test = y[split[0] == 1]\n",
    "type(y_train)"
   ]
  },
  {
   "cell_type": "code",
   "execution_count": 137,
   "metadata": {},
   "outputs": [],
   "source": [
    "spam = pd.read_csv('https://web.stanford.edu/~hastie/ElemStatLearn/datasets/spam.data', sep=' ', header=None)\n",
    "split = pd.read_csv(\"https://web.stanford.edu/~hastie/ElemStatLearn/datasets/spam.traintest\", sep=\" \", header=None)\n",
    "\n",
    "X = spam.drop([57], axis = 1)\n",
    "y = spam[57].copy()\n",
    "#Change output labels\n",
    "y[y==0] = -1\n",
    "\n",
    "#split the data\n",
    "X_train = X[split[0] == 0]\n",
    "X_test = X[split[0] == 1]\n",
    "y_train = y[split[0] == 0]\n",
    "y_test = y[split[0] == 1]\n",
    "\n",
    "#Normalize the data\n",
    "mn = X_train.mean()\n",
    "sd = X_train.std()\n",
    "X_train = (X_train-mn)/sd\n",
    "X_test = (X_test - mn)/sd"
   ]
  },
  {
   "cell_type": "code",
   "execution_count": null,
   "metadata": {},
   "outputs": [],
   "source": [
    "\"\"\"\n",
    "spam = pd.read_csv(\"https://web.stanford.edu/~hastie/ElemStatLearn/datasets/spam.data\", sep = \" \", header = None)\n",
    "spam.head()\n",
    "spam = spam.dropna()\n",
    "spam[57].unique()\n",
    "\n",
    "## Create the X matrix with 57 predictors and y vector with the classification spam or not\n",
    "X = spam.drop([57],axis = 1)\n",
    "X = pd.get_dummies(X, drop_first=True)\n",
    "X = asdataframe(X)\n",
    "y = spam[57]\n",
    "\n",
    "## Converting the output from 0/1 to +1/-1\n",
    "y = y.apply(lambda x: -1 if x is 0 else 1)\n",
    "y.unique()\n",
    "\n",
    "y = y.astype('int')\n",
    "## Splitting the data into test and train split\n",
    "X_train, X_test, y_train, y_test = train_test_split(X,y, random_state = 0)\n",
    "\n",
    "## Standardize the data\n",
    "scaler = preprocessing.StandardScaler().fit(X_train)\n",
    "X_train = scaler.transform(X_train)\n",
    "X_test = scaler.transform(X_test)\n",
    "scaler = preprocessing.StandardScaler().fit(y_train.values.reshape(-1,1))\n",
    "y_train = scaler.transform(y_train.values.reshape(-1,1)).reshape(-1)\n",
    "y_test = scaler.transform(y_test.values.reshape(-1,1)).reshape(-1)\n",
    "\"\"\""
   ]
  },
  {
   "cell_type": "code",
   "execution_count": null,
   "outputs": [],
   "source": [
    "def obj(beta, L, X=X_train, y=y_train):\n",
    "    XB = X.dot(beta)\n",
    "    yXB = multiply(y, XB)\n",
    "    return ((1/n*sum(np.log(1+np.exp(-1*yXB))))+ L*(np.linalg.norm(beta)**2))"
   ],
   "metadata": {
    "collapsed": false,
    "pycharm": {
     "name": "#%%\n"
    }
   }
  },
  {
   "cell_type": "code",
   "execution_count": 140,
   "metadata": {},
   "outputs": [],
   "source": [
    "def computegrad(beta, L, X=X_train, y=y_train):\n",
    "    ## Making Q matrix\n",
    "    n = X.shape[0]\n",
    "    XB = X.dot(beta)\n",
    "    yXB = multiply(y, XB)\n",
    "    p = 1/(1+np.exp(-1*yXB))\n",
    "    Q = np.diag(1-p) ## n x n \n",
    "    ## X: n x d  y: n x 1\n",
    "    return (-1/n * X.T.dot(Q.dot(y))) + 2*L*beta\n"
   ]
  },
  {
   "cell_type": "markdown",
   "metadata": {},
   "source": [
    "#### Implementing the backtracking algorithm"
   ]
  },
  {
   "cell_type": "code",
   "execution_count": 141,
   "metadata": {},
   "outputs": [],
   "source": [
    "def backtracking(beta, t_init, L, alpha=0.5, gamma=0.5, X=X_train, y=y_train):\n",
    "    t = t_init\n",
    "    grad_beta = computegrad(beta,L)\n",
    "    obj_b = obj(beta,L)\n",
    "    while obj(beta-t*grad_beta,L) > (obj_b - alpha*t*(np.linalg.norm(grad_beta)**2)):\n",
    "        t = t*gamma\n",
    "    return t"
   ]
  },
  {
   "cell_type": "markdown",
   "metadata": {},
   "source": [
    "### Writing gradient descent algorithm"
   ]
  },
  {
   "cell_type": "code",
   "execution_count": 142,
   "metadata": {},
   "outputs": [],
   "source": [
    "def graddescent(beta_init,t_init, L, alpha=0.5, gamma=0.8, eps=0.005, X=X_train, y=y_train):\n",
    "    beta = beta_init\n",
    "    beta_vals = [beta]\n",
    "    grad_beta = computegrad(beta,L)\n",
    "    t = t_init\n",
    "    while np.linalg.norm(grad_beta) > eps:\n",
    "        beta = beta - t*grad_beta\n",
    "        beta_vals.append(beta)\n",
    "        t = backtracking(beta,t,L,alpha, gamma,X,y)\n",
    "        grad_beta = computegrad(beta,L)\n",
    "    return (np.array(beta_vals),beta)"
   ]
  },
  {
   "cell_type": "markdown",
   "metadata": {},
   "source": [
    "#### Implementing fast gradient algorithm."
   ]
  },
  {
   "cell_type": "code",
   "execution_count": 143,
   "metadata": {},
   "outputs": [],
   "source": [
    "def fastgradalgo(X, y, b_init, eta_init, l2_const, eps, alpha, gamma):\n",
    "    b = b_init.copy()\n",
    "    theta = np.zeros(b_init.shape[0])\n",
    "    b_vals = [b]\n",
    "    t = 0\n",
    "    grad_b = computegrad(b, l2_const)\n",
    "    grad_theta = computegrad(theta, l2_const)\n",
    "    eta = eta_init\n",
    "    while np.linalg.norm(grad_b) > eps:\n",
    "        b_prev = b\n",
    "        b = theta - eta*grad_theta\n",
    "        theta = b + t/(t+3) *(b-b_prev)\n",
    "        b_vals.append(b)\n",
    "        eta = backtracking(b, eta, l2_const, alpha, gamma)\n",
    "        grad_b = computegrad(b, l2_const)\n",
    "        grad_theta = computegrad(theta, l2_const)\n",
    "        t+=1\n",
    "    return np.array(b_vals)"
   ]
  },
  {
   "cell_type": "code",
   "execution_count": 144,
   "metadata": {},
   "outputs": [],
   "source": [
    "def convergence_plots(X, y, b_vals, l2_const):\n",
    "    \"\"\"\n",
    "    Plot the convergence in terms of the function values and the gradients\n",
    "    Input:\n",
    "      - x_vals: Values the gradient descent algorithm stepped to\n",
    "    \"\"\"\n",
    "    n, d = b_vals.shape\n",
    "    fs = np.zeros(n)\n",
    "    grads = np.zeros((n, d))\n",
    "    for i in range(n):\n",
    "        fs[i] = obj(X, y, b_vals[i], l2_const)\n",
    "        grads[i, :] = computegrad(X, y, b_vals[i], l2_const)\n",
    "    grad_norms = np.linalg.norm(grads, axis=1)\n",
    "    \n",
    "    plt.plot(fs)\n",
    "    plt.xlabel = 'Iteration'\n",
    "    plt.ylabel = 'Objective value'\n",
    "    plt.suptitle = 'Objective Function Value and Norm'\n",
    "    plt.show()\n",
    "\n",
    "    #plt.subplot(122)\n",
    "    plt.plot(grad_norms)\n",
    "    plt.xlabel = 'Iteration'\n",
    "    plt.ylabel = 'Norm of gradient'\n",
    "    plt.suptitle = 'Norm of Gradient Convergence'\n",
    "    plt.show()"
   ]
  },
  {
   "cell_type": "code",
   "execution_count": 145,
   "metadata": {},
   "outputs": [],
   "source": [
    "def predict_label(X, beta):\n",
    "    z = X.dot(beta)\n",
    "    return np.sign(z)"
   ]
  },
  {
   "cell_type": "code",
   "execution_count": 146,
   "metadata": {},
   "outputs": [],
   "source": [
    "def get_t_init(X, L):\n",
    "    n, d = X.shape\n",
    "    eigenvals = np.linalg.eigh((1/n)*X.T.dot(X))[0]\n",
    "    l_est = max(eigenvals)+L\n",
    "    return 1/l_est"
   ]
  },
  {
   "cell_type": "markdown",
   "source": [
    "### Training the model with eps = 0.005"
   ],
   "metadata": {
    "collapsed": false
   }
  },
  {
   "cell_type": "code",
   "execution_count": 147,
   "metadata": {},
   "outputs": [
    {
     "name": "stdout",
     "output_type": "stream",
     "text": [
      "Initial step size 0.1370072526167436\n",
      "\n",
      " Beta Values from Gradient Descent Algorithm with Backtracking\n",
      "No of iterations (21, 57)\n",
      "Latest value of beta 0     0.021511\n",
      "1    -0.014609\n",
      "2     0.054314\n",
      "3     0.019565\n",
      "4     0.066845\n",
      "5     0.065039\n",
      "6     0.104801\n",
      "7     0.059835\n",
      "8     0.055336\n",
      "9     0.032760\n",
      "10    0.059949\n",
      "11   -0.007555\n",
      "12    0.027300\n",
      "13    0.015303\n",
      "14    0.049295\n",
      "15    0.103817\n",
      "16    0.073018\n",
      "17    0.057569\n",
      "18    0.070534\n",
      "19    0.053118\n",
      "20    0.108988\n",
      "21    0.036292\n",
      "22    0.094962\n",
      "23    0.066735\n",
      "24   -0.064062\n",
      "25   -0.053121\n",
      "26   -0.051620\n",
      "27   -0.035168\n",
      "28   -0.026522\n",
      "29   -0.034351\n",
      "30   -0.020362\n",
      "31   -0.014655\n",
      "32   -0.032248\n",
      "33   -0.014745\n",
      "34   -0.024852\n",
      "35   -0.020775\n",
      "36   -0.043638\n",
      "37   -0.011420\n",
      "38   -0.035913\n",
      "39    0.000594\n",
      "40   -0.024892\n",
      "41   -0.037602\n",
      "42   -0.032546\n",
      "43   -0.027774\n",
      "44   -0.043257\n",
      "45   -0.045448\n",
      "46   -0.013679\n",
      "47   -0.025416\n",
      "48   -0.018500\n",
      "49   -0.020041\n",
      "50   -0.015795\n",
      "51    0.062451\n",
      "52    0.094341\n",
      "53    0.021108\n",
      "54    0.028623\n",
      "55    0.049669\n",
      "56    0.063377\n",
      "dtype: float64\n"
     ]
    }
   ],
   "source": [
    "eps = 0.005\n",
    "L = 0.5\n",
    "n,d = X_train.shape\n",
    "beta_init = np.zeros(d)\n",
    "alpha = 0.5\n",
    "gamma = 0.8\n",
    "t_init = get_t_init(X_train,L)\n",
    "print (\"Initial step size\", t_init)\n",
    "\n",
    "print (\"\\n Beta Values from Gradient Descent Algorithm with Backtracking\")\n",
    "beta_vals, beta = graddescent(beta_init, t_init,L)\n",
    "print(\"No of iterations\",beta_vals.shape)\n",
    "print(\"Latest value of beta\", beta)"
   ]
  },
  {
   "cell_type": "code",
   "execution_count": 148,
   "metadata": {},
   "outputs": [
    {
     "data": {
      "text/plain": [
       "3065"
      ]
     },
     "execution_count": 148,
     "metadata": {},
     "output_type": "execute_result"
    }
   ],
   "source": [
    "n"
   ]
  },
  {
   "cell_type": "code",
   "execution_count": 149,
   "metadata": {},
   "outputs": [
    {
     "name": "stdout",
     "output_type": "stream",
     "text": [
      "\n",
      " Beta Values from Fast Gradient Algorithm\n",
      "Number of iterations: 15\n",
      "[ 0.02037437 -0.01504766  0.05382601  0.0201659   0.06767104  0.06513334\n",
      "  0.10719113  0.06070464  0.05483936  0.03239862  0.0590675  -0.00884775\n",
      "  0.02647213  0.01510568  0.04888606  0.10616407  0.07335593  0.05778392\n",
      "  0.07010499  0.05318147  0.10934256  0.03777327  0.09619363  0.06771813\n",
      " -0.0644759  -0.05277971 -0.05200922 -0.03478147 -0.02606825 -0.03419884\n",
      " -0.01969516 -0.01385046 -0.03250596 -0.01395656 -0.02450324 -0.01965913\n",
      " -0.04307649 -0.01184066 -0.03602103  0.00147358 -0.02456192 -0.03799271\n",
      " -0.03227758 -0.02820368 -0.04416688 -0.04605191 -0.01385177 -0.02572586\n",
      " -0.01925052 -0.02035322 -0.01555762  0.06338699  0.09617098  0.0214984\n",
      "  0.02862236  0.04983215  0.063727  ]\n",
      "No of iterations (15, 57)\n",
      "Latest value of beta [ 0.02037437 -0.01504766  0.05382601  0.0201659   0.06767104  0.06513334\n",
      "  0.10719113  0.06070464  0.05483936  0.03239862  0.0590675  -0.00884775\n",
      "  0.02647213  0.01510568  0.04888606  0.10616407  0.07335593  0.05778392\n",
      "  0.07010499  0.05318147  0.10934256  0.03777327  0.09619363  0.06771813\n",
      " -0.0644759  -0.05277971 -0.05200922 -0.03478147 -0.02606825 -0.03419884\n",
      " -0.01969516 -0.01385046 -0.03250596 -0.01395656 -0.02450324 -0.01965913\n",
      " -0.04307649 -0.01184066 -0.03602103  0.00147358 -0.02456192 -0.03799271\n",
      " -0.03227758 -0.02820368 -0.04416688 -0.04605191 -0.01385177 -0.02572586\n",
      " -0.01925052 -0.02035322 -0.01555762  0.06338699  0.09617098  0.0214984\n",
      "  0.02862236  0.04983215  0.063727  ]\n"
     ]
    },
    {
     "data": {
      "text/plain": [
       "(3065,)"
      ]
     },
     "execution_count": 149,
     "metadata": {},
     "output_type": "execute_result"
    },
    {
     "data": {
      "text/plain": [
       "0.9249592169657422"
      ]
     },
     "execution_count": 149,
     "metadata": {},
     "output_type": "execute_result"
    }
   ],
   "source": [
    "print (\"\\n Beta Values from Fast Gradient Algorithm\")\n",
    "\n",
    "b_vals_fast = fastgradalgo(X_train, y_train, beta_init, t_init, L, eps, alpha, gamma)\n",
    "\n",
    "print(\"Number of iterations:\", b_vals_fast.shape[0])\n",
    "print(b_vals_fast[-1])\n",
    "print(\"No of iterations\",b_vals_fast.shape)\n",
    "print(\"Latest value of beta\", b_vals_fast[-1])\n",
    "\n",
    "pred = predict_label(X_train,b_vals_fast2[-1])\n",
    "pred.shape\n",
    "\n",
    "accuracy_score(y_train,pred)"
   ]
  },
  {
   "cell_type": "code",
   "execution_count": 150,
   "metadata": {},
   "outputs": [],
   "source": [
    "## Defining the objective function vs iteration count function:\n",
    "def obj_iter_plot(beta_vals,L, dlabel):\n",
    "    n,d = beta_vals.shape\n",
    "    ## Initialise an array to store obj function's value for each of the beta values:\n",
    "    fs = np.zeros(n)\n",
    "    for i in range(n):\n",
    "        fs[i] = obj(beta_vals[i],L)\n",
    "    plt.plot(fs,label = dlabel)\n",
    "    plt.xlabel(\"IterationCount\")\n",
    "    plt.ylabel(\"Obj_function_at_beta\")"
   ]
  },
  {
   "cell_type": "code",
   "execution_count": 151,
   "metadata": {},
   "outputs": [
    {
     "data": {
      "text/plain": [
       "<Figure size 504x432 with 0 Axes>"
      ]
     },
     "execution_count": 151,
     "metadata": {},
     "output_type": "execute_result"
    },
    {
     "data": {
      "text/plain": [
       "<matplotlib.legend.Legend at 0x1a26606a20>"
      ]
     },
     "execution_count": 151,
     "metadata": {},
     "output_type": "execute_result"
    },
    {
     "data": {
      "image/png": "[encoded data removed]",
      "text/plain": [
       "<Figure size 504x432 with 1 Axes>"
      ]
     },
     "metadata": {
      "needs_background": "light"
     },
     "output_type": "display_data"
    }
   ],
   "source": [
    "## Plotting the graph of F(beta) vs iteration count\n",
    "plt.figure(figsize=(7, 6))\n",
    "obj_iter_plot(beta_vals, L, \"Gradient Descent with Backtracking\")\n",
    "obj_iter_plot(b_vals_fast, L, \"Fast Gradient Descent\")\n",
    "plt.legend()\n",
    "plt.show()"
   ]
  },
  {
   "cell_type": "markdown",
   "metadata": {},
   "source": [
    "Thus we see from the above graph that fast gradient algorithm converges faster than the gradient descent algorithm. The no of iterations also vary considerably ( 14 in fast gradient and 21 in gradient descent with back tracking)"
   ]
  },
  {
   "cell_type": "markdown",
   "metadata": {},
   "source": [
    "#### In order to check the performace of my model, have compared the results from scikit-learn Logistic Regression Model"
   ]
  },
  {
   "cell_type": "code",
   "execution_count": 152,
   "metadata": {
    "scrolled": true
   },
   "outputs": [
    {
     "name": "stdout",
     "output_type": "stream",
     "text": [
      "0.0003262642740619902\n",
      "\n",
      "Objective Function value from fast grad algo 0.5674985162746817\n",
      "Objective Function value from sklearn 0.5674931480622794\n"
     ]
    }
   ],
   "source": [
    "## From sklearn's logistic regression documentation, we see C = 1/2nLambda\n",
    "from sklearn.linear_model import LogisticRegression\n",
    "\n",
    "L = 0.5\n",
    "n,d = X_train.shape\n",
    "Cprime = 1/(2*n*L) \n",
    "print (Cprime)\n",
    "y_train = y_train.astype('int')\n",
    "\n",
    "lr = LogisticRegression(C = 1/(2*n*L), fit_intercept = False)\n",
    "fit = lr.fit(X_train, y_train)\n",
    "beta_star = fit.coef_\n",
    "#beta_star\n",
    "\n",
    "\n",
    "#print(\"Beta t from fast grad algo\", b_vals_fast[-1])\n",
    "#print(\"Beta start from sklearn\", beta_star[-1])\n",
    "print(\"\\nObjective Function value from fast grad algo\", obj(b_vals_fast[-1],L))\n",
    "print(\"Objective Function value from sklearn\", obj(beta_star[-1],L))\n",
    "\n"
   ]
  },
  {
   "cell_type": "markdown",
   "metadata": {},
   "source": [
    "From the above calculations, we observe that the objective function's value is very similar from both approach. \n"
   ]
  },
  {
   "cell_type": "code",
   "execution_count": 153,
   "metadata": {},
   "outputs": [],
   "source": [
    "def misclassification_error(X, y, beta):\n",
    "    predicted = predict_label(X, beta)\n",
    "    return 1-accuracy_score(y, predicted)\n",
    "    "
   ]
  },
  {
   "cell_type": "code",
   "execution_count": 154,
   "metadata": {},
   "outputs": [],
   "source": [
    "def error_plot(X, y, b_vals, dlabel):\n",
    "    n = b_vals.shape[0]\n",
    "    errors = np.zeros(n)\n",
    "    for i in range(0,n):\n",
    "        errors[i] = misclassification_error(X, y, b_vals[i])\n",
    "    plt.plot(errors, label = dlabel)"
   ]
  },
  {
   "cell_type": "code",
   "execution_count": 155,
   "metadata": {},
   "outputs": [
    {
     "data": {
      "text/plain": [
       "pandas.core.frame.DataFrame"
      ]
     },
     "execution_count": 155,
     "metadata": {},
     "output_type": "execute_result"
    }
   ],
   "source": [
    "type(X_train)"
   ]
  },
  {
   "cell_type": "code",
   "execution_count": 156,
   "metadata": {},
   "outputs": [
    {
     "name": "stdout",
     "output_type": "stream",
     "text": [
      "Optimal C =  0.010440456769983687\n",
      "Optimal lambda =  0.015625\n"
     ]
    }
   ],
   "source": [
    "## Getting Optimal Lambda\n",
    "from sklearn.linear_model import LogisticRegressionCV\n",
    "\n",
    "l2_const_grid = np.array([0.5*(2**i) for i in range(-10,6)])\n",
    "Cs_opts = 1/(2*n*l2_const_grid)\n",
    "#print(Cs_opts)\n",
    "lrcv = LogisticRegressionCV(Cs = Cs_opts, fit_intercept = False, cv = 10, max_iter=10000)\n",
    "fit = lrcv.fit(X_train, y_train)\n",
    "\n",
    "print(\"Optimal C = \", lrcv.C_[0])\n",
    "print(\"Optimal lambda = \", 1/(2*n*lrcv.C_[0]))\n",
    "opt_lambda = 1/(2*n*lrcv.C_[0])"
   ]
  },
  {
   "cell_type": "code",
   "execution_count": 157,
   "metadata": {},
   "outputs": [
    {
     "name": "stdout",
     "output_type": "stream",
     "text": [
      "Initial step size 0.14674572256583954\n",
      "\n",
      " Beta Values from Gradient Descent Algorithm with Backtracking\n",
      "No of iterations (248, 57)\n",
      "0.9161500815660685\n",
      "\n",
      " Beta Values from Fast Gradient Algorithm\n",
      "Number of iterations: (57, 57)\n"
     ]
    }
   ],
   "source": [
    "eps = 0.005\n",
    "opt_L = opt_lambda\n",
    "n,d = X_train.shape\n",
    "beta_init = np.zeros(d)\n",
    "alpha = 0.5\n",
    "gamma = 0.8\n",
    "t_init = get_t_init(X_train,opt_L)\n",
    "print (\"Initial step size\", t_init)\n",
    "y_train = y_train.astype('int')\n",
    "\n",
    "print (\"\\n Beta Values from Gradient Descent Algorithm with Backtracking\")\n",
    "beta_vals2, beta2 = graddescent(beta_init, t_init, opt_L)\n",
    "print(\"No of iterations\",beta_vals2.shape)\n",
    "#print(\"Latest value of beta\", beta2)\n",
    "print (accuracy_score(y_train, predict_label(X_train,beta_vals2[-1])))\n",
    "\n",
    "print (\"\\n Beta Values from Fast Gradient Algorithm\")\n",
    "b_vals_fast2 = fastgradalgo(X_train, y_train, beta_init, t_init, opt_L, eps, alpha, gamma)\n",
    "print(\"Number of iterations:\", b_vals_fast2.shape)\n",
    "#print(\"Latest value of beta\", b_vals_fast2[-1])"
   ]
  },
  {
   "cell_type": "code",
   "execution_count": 158,
   "metadata": {},
   "outputs": [
    {
     "name": "stdout",
     "output_type": "stream",
     "text": [
      "\n",
      " Objective Function Value \n",
      "Obj Value from Gradient Descent with Backtracking 0.32056371231748315\n",
      "Obj Value from Fast Grade Algo 0.32050072800264406\n"
     ]
    }
   ],
   "source": [
    "print (\"\\n Objective Function Value \")\n",
    "print(\"Obj Value from Gradient Descent with Backtracking\", obj(beta_vals2[-1],opt_L))\n",
    "print(\"Obj Value from Fast Grade Algo\", obj(b_vals_fast2[-1],opt_L))"
   ]
  },
  {
   "cell_type": "code",
   "execution_count": 159,
   "metadata": {},
   "outputs": [
    {
     "data": {
      "text/plain": [
       "1       1\n",
       "3       1\n",
       "4       1\n",
       "5       1\n",
       "6       1\n",
       "       ..\n",
       "4596   -1\n",
       "4597   -1\n",
       "4598   -1\n",
       "4599   -1\n",
       "4600   -1\n",
       "Name: 57, Length: 3065, dtype: int64"
      ]
     },
     "execution_count": 159,
     "metadata": {},
     "output_type": "execute_result"
    },
    {
     "data": {
      "text/plain": [
       "<Figure size 504x432 with 0 Axes>"
      ]
     },
     "execution_count": 159,
     "metadata": {},
     "output_type": "execute_result"
    },
    {
     "data": {
      "text/plain": [
       "<matplotlib.legend.Legend at 0x1a26376d68>"
      ]
     },
     "execution_count": 159,
     "metadata": {},
     "output_type": "execute_result"
    },
    {
     "data": {
      "image/png": "[encoded data removed]",
      "text/plain": [
       "<Figure size 504x432 with 1 Axes>"
      ]
     },
     "metadata": {
      "needs_background": "light"
     },
     "output_type": "display_data"
    }
   ],
   "source": [
    "y_train\n",
    "plt.figure(figsize=(7, 6))\n",
    "obj_iter_plot(beta_vals2, opt_L, \"Gradient Descent with Backtracking\")\n",
    "obj_iter_plot(b_vals_fast2, opt_L, \"Fast Gradient Descent\")\n",
    "plt.legend()\n",
    "plt.show()"
   ]
  },
  {
   "cell_type": "markdown",
   "metadata": {},
   "source": [
    "From the above calculations, we see that \n",
    "- a) Optimal Lambda is very very small than what we started with earlier (. 0.015<< 0.5) \n",
    "- b) No. of iteration increase considerable for gradient descent with backtracking although the no of iterations for fast gradient as same \n",
    "- c) The value of objective function with gradient descent with optimal lambda is similar to that from fast gradient algorithm (0.25 << 0.51)"
   ]
  },
  {
   "cell_type": "code",
   "execution_count": 160,
   "metadata": {},
   "outputs": [
    {
     "name": "stdout",
     "output_type": "stream",
     "text": [
      "Parameters:\n",
      "t_init = 0.14674572256583954\n",
      "lambda =  0.015625\n",
      "Number of iterations:  248\n"
     ]
    },
    {
     "data": {
      "text/plain": [
       "<Figure size 576x504 with 0 Axes>"
      ]
     },
     "execution_count": 160,
     "metadata": {},
     "output_type": "execute_result"
    },
    {
     "data": {
      "text/plain": [
       "<matplotlib.legend.Legend at 0x1a21dfb550>"
      ]
     },
     "execution_count": 160,
     "metadata": {},
     "output_type": "execute_result"
    },
    {
     "data": {
      "image/png": "[encoded data removed]",
      "text/plain": [
       "<Figure size 576x504 with 1 Axes>"
      ]
     },
     "metadata": {
      "needs_background": "light"
     },
     "output_type": "display_data"
    }
   ],
   "source": [
    "print(\"Parameters:\")\n",
    "print(\"t_init =\", t_init)\n",
    "print(\"lambda = \", opt_L)\n",
    "print(\"Number of iterations: \", beta_vals2.shape[0])\n",
    "y_test = y_test.astype('int')\n",
    "plt.figure(figsize=(8, 7))\n",
    "error_plot(X_train, y_train, beta_vals2, \"Training error for Gradient Descent\")\n",
    "error_plot(X_test, y_test, beta_vals2, \"Testing error for Gradient Descent\")\n",
    "plt.legend()\n",
    "plt.show()"
   ]
  },
  {
   "cell_type": "code",
   "execution_count": 161,
   "metadata": {},
   "outputs": [
    {
     "name": "stdout",
     "output_type": "stream",
     "text": [
      "Parameters:\n",
      "eta_init = 0.14674572256583954\n",
      "lambda =  0.015625\n",
      "Number of iterations:  57\n"
     ]
    },
    {
     "data": {
      "text/plain": [
       "<Figure size 576x504 with 0 Axes>"
      ]
     },
     "execution_count": 161,
     "metadata": {},
     "output_type": "execute_result"
    },
    {
     "data": {
      "text/plain": [
       "<matplotlib.legend.Legend at 0x1a21e4fe10>"
      ]
     },
     "execution_count": 161,
     "metadata": {},
     "output_type": "execute_result"
    },
    {
     "data": {
      "image/png": "[encoded data removed]",
      "text/plain": [
       "<Figure size 576x504 with 1 Axes>"
      ]
     },
     "metadata": {
      "needs_background": "light"
     },
     "output_type": "display_data"
    }
   ],
   "source": [
    "print(\"Parameters:\")\n",
    "print(\"eta_init =\", t_init)\n",
    "print(\"lambda = \", opt_L)\n",
    "print(\"Number of iterations: \", b_vals_fast2.shape[0])\n",
    "plt.figure(figsize=(8,7))\n",
    "error_plot(X_train, y_train, b_vals_fast2, \"Training error for Fast Gradient Descent\")\n",
    "error_plot(X_test, y_test, b_vals_fast2, \"Testing error for Fast Gradient Descent\")\n",
    "plt.legend()\n",
    "plt.show()"
   ]
  },
  {
   "cell_type": "code",
   "execution_count": 162,
   "metadata": {},
   "outputs": [
    {
     "data": {
      "text/plain": [
       "<Figure size 576x504 with 0 Axes>"
      ]
     },
     "execution_count": 162,
     "metadata": {},
     "output_type": "execute_result"
    },
    {
     "data": {
      "text/plain": [
       "<matplotlib.legend.Legend at 0x1a269d9898>"
      ]
     },
     "execution_count": 162,
     "metadata": {},
     "output_type": "execute_result"
    },
    {
     "data": {
      "image/png": "[encoded data removed]",
      "text/plain": [
       "<Figure size 576x504 with 1 Axes>"
      ]
     },
     "metadata": {
      "needs_background": "light"
     },
     "output_type": "display_data"
    }
   ],
   "source": [
    "plt.figure(figsize=(8,7))\n",
    "error_plot(X_train, y_train, beta_vals2, \"Training error for Gradient Descent\")\n",
    "error_plot(X_train, y_train, b_vals_fast2, \"Training error for Fast Gradient Descent\")\n",
    "plt.legend()\n",
    "plt.show()"
   ]
  },
  {
   "cell_type": "code",
   "execution_count": 163,
   "metadata": {},
   "outputs": [
    {
     "data": {
      "text/plain": [
       "<Figure size 576x504 with 0 Axes>"
      ]
     },
     "execution_count": 163,
     "metadata": {},
     "output_type": "execute_result"
    },
    {
     "data": {
      "text/plain": [
       "<matplotlib.legend.Legend at 0x1a26e8a5c0>"
      ]
     },
     "execution_count": 163,
     "metadata": {},
     "output_type": "execute_result"
    },
    {
     "data": {
      "image/png": "[encoded data removed]",
      "text/plain": [
       "<Figure size 576x504 with 1 Axes>"
      ]
     },
     "metadata": {
      "needs_background": "light"
     },
     "output_type": "display_data"
    }
   ],
   "source": [
    "plt.figure(figsize=(8,7))\n",
    "error_plot(X_test, y_test, beta_vals2, \"Testing error for Gradient Descent\")\n",
    "error_plot(X_test, y_test, b_vals_fast2, \"Testing error for Fast Gradient Descent\")\n",
    "plt.legend()\n",
    "plt.show()"
   ]
  },
  {
   "cell_type": "markdown",
   "metadata": {},
   "source": [
    "From the above plots of misclassification error, we see that due to optimal Lmabda (0.0005), the classification error has highly increased. This makes sense that keeping a very small Lambda, in turns negates the effect of penalty. Due to this, though the objective value is very low with the optimal lambda but the classification error has highly increased."
   ]
  },
  {
   "cell_type": "markdown",
   "metadata": {},
   "source": [
    "### Excercise 2"
   ]
  },
  {
   "cell_type": "markdown",
   "metadata": {},
   "source": [
    "Suppose we estimate the regression coefficients in a logistic regression model by minimizing\n",
    "F(β):= log􏰃1+exp(−yixTi β)􏰄 +λ∥β∥2\n",
    "for a particular value of λ. For parts (a) through (e), indicate which of (i) through (v) is correct. Justify your answer.\n",
    "\n"
   ]
  },
  {
   "cell_type": "markdown",
   "metadata": {},
   "source": [
    "With the increase in Lambda, one should see a steady increase in"
   ]
  },
  {
   "cell_type": "markdown",
   "metadata": {},
   "source": [
    "#### Q 2.2 (b) Repeat (a) for the misclassification error on a large dataset of unseen data draw from the same probability distribution as the training set."
   ]
  },
  {
   "cell_type": "code",
   "execution_count": 164,
   "metadata": {},
   "outputs": [
    {
     "name": "stdout",
     "output_type": "stream",
     "text": [
      "(3065, 57)\n",
      "[0.     0.0075 0.015  0.0225 0.03   0.0375 0.045  0.0525 0.06   0.0675\n",
      " 0.075  0.0825 0.09   0.0975 0.105  0.1125 0.12   0.1275 0.135  0.1425\n",
      " 0.15   0.1575 0.165  0.1725 0.18   0.1875 0.195  0.2025 0.21   0.2175\n",
      " 0.225  0.2325 0.24   0.2475 0.255  0.2625 0.27   0.2775 0.285  0.2925]\n"
     ]
    }
   ],
   "source": [
    "print (X_train.shape)\n",
    "print(L_grid)"
   ]
  },
  {
   "cell_type": "code",
   "execution_count": 165,
   "metadata": {},
   "outputs": [],
   "source": [
    "beta_init = np.zeros(d)\n",
    "alpha = 0.5\n",
    "gamma = 0.8\n",
    "eps = 0.0051\n",
    "\n",
    "L_grid = np.arange(0.0, 0.3, 0.0075)\n",
    "train_error = np.zeros(L_grid.shape[0])\n",
    "test_error = np.zeros(L_grid.shape[0])\n",
    "\n",
    "for i in range(L_grid.shape[0]):\n",
    "    t_init = get_t_init(X_train, L_grid[i])\n",
    "    beta = fastgradalgo(X_train, y_train, beta_init, t_init, L_grid[i], eps, alpha, gamma)[-1]\n",
    "    train_error[i] = misclassification_error(X_train, y_train, beta)\n",
    "    test_error[i] = misclassification_error(X_test, y_test, beta)"
   ]
  },
  {
   "cell_type": "code",
   "execution_count": 166,
   "metadata": {},
   "outputs": [
    {
     "data": {
      "text/plain": [
       "[<matplotlib.lines.Line2D at 0x1a26ee8550>]"
      ]
     },
     "execution_count": 166,
     "metadata": {},
     "output_type": "execute_result"
    },
    {
     "data": {
      "text/plain": [
       "[<matplotlib.lines.Line2D at 0x1a26ea5320>]"
      ]
     },
     "execution_count": 166,
     "metadata": {},
     "output_type": "execute_result"
    },
    {
     "data": {
      "text/plain": [
       "<matplotlib.legend.Legend at 0x1a26ee8c50>"
      ]
     },
     "execution_count": 166,
     "metadata": {},
     "output_type": "execute_result"
    },
    {
     "data": {
      "image/png": "[encoded data removed]",
      "text/plain": [
       "<Figure size 432x288 with 1 Axes>"
      ]
     },
     "metadata": {
      "needs_background": "light"
     },
     "output_type": "display_data"
    }
   ],
   "source": [
    "plt.plot(L_grid, train_error, label = \"Training error\")\n",
    "plt.plot(L_grid, test_error, label = \"Testing error\")\n",
    "plt.legend()"
   ]
  },
  {
   "cell_type": "code",
   "execution_count": null,
   "metadata": {},
   "outputs": [],
   "source": []
  },
  {
   "cell_type": "code",
   "execution_count": null,
   "metadata": {},
   "outputs": [],
   "source": []
  },
  {
   "cell_type": "code",
   "execution_count": null,
   "metadata": {},
   "outputs": [],
   "source": []
  }
 ],
 "metadata": {
  "kernelspec": {
   "display_name": "Python 3",
   "language": "python",
   "name": "python3"
  },
  "language_info": {
   "codemirror_mode": {
    "name": "ipython",
    "version": 3
   },
   "file_extension": ".py",
   "mimetype": "text/x-python",
   "name": "python",
   "nbconvert_exporter": "python",
   "pygments_lexer": "ipython3",
   "version": "3.7.3"
  }
 },
 "nbformat": 4,
 "nbformat_minor": 4
}